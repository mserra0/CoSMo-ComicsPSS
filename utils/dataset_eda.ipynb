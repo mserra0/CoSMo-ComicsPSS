{
 "cells": [
  {
   "cell_type": "code",
   "execution_count": null,
   "id": "62d64991",
   "metadata": {},
   "outputs": [],
   "source": [
    "from EncoderClassifier.pss_datasets.pss_dataset import PSSDataset\n",
    "from EncoderClassifier.utils.visualitzation import analyze_book_types, visualize_book\n",
    "from EncoderClassifier.utils.data import ComicTransform\n",
    "import matplotlib.pyplot as plt\n",
    "import os\n",
    "from transformers import SiglipImageProcessor, AutoProcessor, AutoModel\n",
    "import torch\n",
    "import random \n",
    "import numpy as np\n",
    "import tqdm"
   ]
  },
  {
   "cell_type": "code",
   "execution_count": null,
   "id": "3bc68fdd",
   "metadata": {},
   "outputs": [],
   "source": [
    "root_dir = '/home-local/mserrao/PSSComics/multimodal-comic-pss/datasets.unify/DCM/images'\n",
    "annotations_dir = '/home/mserrao/PSSComics/Comics/DatasetDCM/comics_all_430.json'\n",
    "precompute_dir = '/home-local/mserrao/PSSComics/multimodal-comic-pss/EncoderClassifier/data'\n",
    "checkpoint_dir = '/home-local/mserrao/PSSComics/multimodal-comic-pss/EncoderClassifier/checkpoints'\n",
    "data_dir = '/home-local/mserrao/PSSComics/multimodal-comic-pss/EncoderClassifier/data'\n",
    "out_dir = '/home-local/mserrao/PSSComics/multimodal-comic-pss/EncoderClassifier/out'\n",
    "    \n",
    "model_id = 'openai/clip-vit-large-patch14-336'\n",
    "gpu_id = 3\n",
    "seed = 10\n",
    "num_aug_copies = 5\n",
    "num_synthetic_books = 1000\n",
    "\n",
    "random.seed(seed)\n",
    "np.random.seed(seed)\n",
    "torch.manual_seed(seed)\n",
    "\n",
    "device = torch.device(f\"cuda:{gpu_id}\" if torch.cuda.is_available() else \"cpu\")\n",
    "\n",
    "parts = model_id.split('/')[1].split('-')\n",
    "backbone_name = f'{parts[0]}_{parts[-1]}'\n",
    "\n",
    "backbone = AutoModel.from_pretrained(model_id).eval()\n",
    "\n",
    "if 'siglip2' in backbone_name:\n",
    "    processor = SiglipImageProcessor.from_pretrained(model_id)\n",
    "else:\n",
    "    processor = AutoProcessor.from_pretrained(model_id)\n",
    "    \n",
    "backbone.to(device)\n",
    "\n",
    "if 'dinov2' in backbone_name:\n",
    "    feature_dim = backbone.config.hidden_size\n",
    "elif 'clip' in backbone_name:\n",
    "    feature_dim = backbone.config.vision_config.projection_dim\n",
    "elif 'siglip' in backbone_name:\n",
    "    feature_dim = backbone.config.vision_config.hidden_size\n",
    "else:\n",
    "    raise ValueError(f\"Warning: Unknown backbone '{backbone_name}'\")\n",
    "\n",
    "transformations = ComicTransform()\n",
    "\n",
    "test_dataset = PSSDataset(root_dir=root_dir, \n",
    "                            model_id = model_id,\n",
    "                            backbone=backbone, \n",
    "                            backbone_name = backbone_name,\n",
    "                            feature_dim = feature_dim,\n",
    "                            processor=processor, \n",
    "                            device=device, \n",
    "                            annotations_path=f'{data_dir}/comics_test.json', \n",
    "                            precompute_features=False,\n",
    "                            precompute_dir=f'{precompute_dir}/features_test.pt', \n",
    "                            augment_data=False,\n",
    "                            num_augmented_copies = num_aug_copies,\n",
    "                            transform=None, \n",
    "                            removal_p=0.05,\n",
    "                            num_synthetic_books=num_synthetic_books,\n",
    "                            min_stories=2,\n",
    "                            max_stories=3,\n",
    "                            synthetic_remove_p=0.15)"
   ]
  },
  {
   "cell_type": "code",
   "execution_count": null,
   "id": "65c0ab6f",
   "metadata": {},
   "outputs": [],
   "source": [
    "analyze_book_types(test_dataset)"
   ]
  },
  {
   "cell_type": "code",
   "execution_count": null,
   "id": "04de70d1",
   "metadata": {},
   "outputs": [],
   "source": [
    "visualize_book(test_dataset, book_idx=2, dpi=200, transforms=transformations)\n",
    "plt.show()"
   ]
  },
  {
   "cell_type": "code",
   "execution_count": null,
   "id": "88e60a9f",
   "metadata": {},
   "outputs": [],
   "source": [
    "def batch_visualize_books(dataset, output_dir, dpi=150):\n",
    "    \"\"\"\n",
    "    Generate and save visualizations for all books in the dataset\n",
    "    \n",
    "    Args:\n",
    "        dataset: The PSSDataset instance\n",
    "        output_dir: Directory to save visualizations\n",
    "        dpi: Resolution for saved images\n",
    "    \"\"\"\n",
    "    # Create output directory if it doesn't exist\n",
    "    os.makedirs(output_dir, exist_ok=True)\n",
    "    \n",
    "    print(f\"Found {len(dataset.books)} unique books to visualize\")\n",
    "    \n",
    "    for book in dataset.books:\n",
    "        try:\n",
    "            book_id = book['book_id']\n",
    "            fig = visualize_book(dataset, book_id=book_id, dpi=dpi, transforms=dataset.transform)\n",
    "\n",
    "            output_path = os.path.join(output_dir, f\"{book_id}.png\")\n",
    "            fig.savefig(output_path, bbox_inches='tight')\n",
    "            plt.close(fig)  # Close to free memory\n",
    "        except Exception as e:\n",
    "            print(f\"Error visualizing book {book_id}: {e}\")\n",
    "    \n",
    "    print(f\"Visualizations saved to {output_dir}\")"
   ]
  },
  {
   "cell_type": "code",
   "execution_count": null,
   "id": "4de3f8a2",
   "metadata": {},
   "outputs": [],
   "source": [
    "visualization_dir = '/home-local/mserrao/PSSComics/multimodal-comic-pss/visualizations/test_dataset'\n",
    "\n",
    "batch_visualize_books(test_dataset, visualization_dir)"
   ]
  }
 ],
 "metadata": {
  "kernelspec": {
   "display_name": "magi",
   "language": "python",
   "name": "python3"
  },
  "language_info": {
   "codemirror_mode": {
    "name": "ipython",
    "version": 3
   },
   "file_extension": ".py",
   "mimetype": "text/x-python",
   "name": "python",
   "nbconvert_exporter": "python",
   "pygments_lexer": "ipython3",
   "version": "3.8.20"
  }
 },
 "nbformat": 4,
 "nbformat_minor": 5
}
